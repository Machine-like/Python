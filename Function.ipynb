{
 "cells": [
  {
   "cell_type": "markdown",
   "id": "572d76e3",
   "metadata": {},
   "source": [
    "\n",
    "# Function\n",
    "\n",
    "Built-in\n",
    "\n",
    "User defined"
   ]
  },
  {
   "cell_type": "markdown",
   "id": "5deda60e",
   "metadata": {},
   "source": [
    "# Built in"
   ]
  },
  {
   "cell_type": "code",
   "execution_count": 2,
   "id": "255028fc",
   "metadata": {},
   "outputs": [
    {
     "name": "stdout",
     "output_type": "stream",
     "text": [
      "Hello : Welcome to the session\n"
     ]
    }
   ],
   "source": [
    "print(\"Hello\",\"Welcome to the session\",sep=' : ')"
   ]
  },
  {
   "cell_type": "code",
   "execution_count": 3,
   "id": "ef9de86e",
   "metadata": {},
   "outputs": [
    {
     "name": "stdout",
     "output_type": "stream",
     "text": [
      "Pythonis fun\n"
     ]
    }
   ],
   "source": [
    "print(\"Python\" + \"is fun\")"
   ]
  },
  {
   "cell_type": "code",
   "execution_count": 4,
   "id": "fde688f5",
   "metadata": {},
   "outputs": [
    {
     "ename": "TypeError",
     "evalue": "can only concatenate str (not \"int\") to str",
     "output_type": "error",
     "traceback": [
      "\u001b[1;31m---------------------------------------------------------------------------\u001b[0m",
      "\u001b[1;31mTypeError\u001b[0m                                 Traceback (most recent call last)",
      "\u001b[1;32m<ipython-input-4-a9fc622e2771>\u001b[0m in \u001b[0;36m<module>\u001b[1;34m\u001b[0m\n\u001b[1;32m----> 1\u001b[1;33m \u001b[0mprint\u001b[0m\u001b[1;33m(\u001b[0m\u001b[1;34m\"My phone number is\"\u001b[0m\u001b[1;33m+\u001b[0m \u001b[1;36m90000000\u001b[0m\u001b[1;33m)\u001b[0m\u001b[1;33m\u001b[0m\u001b[1;33m\u001b[0m\u001b[0m\n\u001b[0m",
      "\u001b[1;31mTypeError\u001b[0m: can only concatenate str (not \"int\") to str"
     ]
    }
   ],
   "source": [
    "print(\"My phone number is\"+ 90000000)"
   ]
  },
  {
   "cell_type": "code",
   "execution_count": 5,
   "id": "f25fa1ed",
   "metadata": {},
   "outputs": [
    {
     "name": "stdout",
     "output_type": "stream",
     "text": [
      "My phone number is 90000000\n"
     ]
    }
   ],
   "source": [
    "print(\"My phone number is \"+str(90000000))"
   ]
  },
  {
   "cell_type": "markdown",
   "id": "2cf61b46",
   "metadata": {},
   "source": [
    "# User defined"
   ]
  },
  {
   "cell_type": "code",
   "execution_count": 6,
   "id": "02966ad6",
   "metadata": {},
   "outputs": [
    {
     "name": "stdout",
     "output_type": "stream",
     "text": [
      "Hello and welcome to the session\n"
     ]
    }
   ],
   "source": [
    "def greet():\n",
    "    print(\"Hello and welcome to the session\")\n",
    "greet()"
   ]
  },
  {
   "cell_type": "code",
   "execution_count": 7,
   "id": "9a8e719e",
   "metadata": {},
   "outputs": [
    {
     "name": "stdout",
     "output_type": "stream",
     "text": [
      "Enter your name: swag.kid_swastik_\n",
      "Hello swag.kid_swastik_ Welcome to the iamSwaYamSwaStik\n"
     ]
    }
   ],
   "source": [
    "def greet(name):\n",
    "    print(\"Hello\",name,\"Welcome to the iamSwaYamSwaStik\")\n",
    "person_name=input(\"Enter your name: \")\n",
    "greet(person_name)"
   ]
  },
  {
   "cell_type": "code",
   "execution_count": 11,
   "id": "ad1d879c",
   "metadata": {},
   "outputs": [
    {
     "data": {
      "text/plain": [
       "10"
      ]
     },
     "execution_count": 11,
     "metadata": {},
     "output_type": "execute_result"
    }
   ],
   "source": [
    "def addition(num1,num2):\n",
    "    add=num1+num2\n",
    "    return(add)\n",
    "summation=addition(2,8)\n",
    "summation"
   ]
  },
  {
   "cell_type": "code",
   "execution_count": 12,
   "id": "1c47c089",
   "metadata": {},
   "outputs": [
    {
     "data": {
      "text/plain": [
       "25.0"
      ]
     },
     "execution_count": 12,
     "metadata": {},
     "output_type": "execute_result"
    }
   ],
   "source": [
    "def area_of_triangle(base,height):\n",
    "    return(0.5*base*height)\n",
    "\n",
    "area_of_triangle(5,10)"
   ]
  },
  {
   "cell_type": "code",
   "execution_count": 17,
   "id": "7a6dcc33",
   "metadata": {},
   "outputs": [
    {
     "name": "stdout",
     "output_type": "stream",
     "text": [
      "Enter your name: Swastik\n",
      "Hello Swastik Welcom to the session\n",
      "Enter your fullname: Swayam Swastik Dash\n",
      "Hello Swayam Swastik Dash Welcom to the session\n"
     ]
    }
   ],
   "source": [
    "def greet(name):\n",
    "    print(\"Hello\",name,\"Welcom to the session\")\n",
    "person_name=input(\"Enter your name: \")\n",
    "greet(person_name)\n",
    "person_name=input(\"Enter your fullname: \")\n",
    "greet(\"Swayam Swastik Dash\")"
   ]
  },
  {
   "cell_type": "code",
   "execution_count": 18,
   "id": "fd7e4768",
   "metadata": {},
   "outputs": [
    {
     "data": {
      "text/plain": [
       "25"
      ]
     },
     "execution_count": 18,
     "metadata": {},
     "output_type": "execute_result"
    }
   ],
   "source": [
    "def addition(num1,num2):\n",
    "    add=num1+num2\n",
    "    return(add)\n",
    "\n",
    "sum=addition(12,13)\n",
    "sum\n"
   ]
  },
  {
   "cell_type": "code",
   "execution_count": 19,
   "id": "10b11661",
   "metadata": {},
   "outputs": [
    {
     "name": "stdout",
     "output_type": "stream",
     "text": [
      "First argumrnt is:  10\n",
      "Second argument is:  2\n"
     ]
    }
   ],
   "source": [
    "###passing arguments\n",
    "\n",
    "def addition(num1,num2):\n",
    "    print(\"First argumrnt is: \",num1)\n",
    "    print(\"Second argument is: \",num2)\n",
    "num1=2\n",
    "num2=10\n",
    "addition(num2,num1)"
   ]
  },
  {
   "cell_type": "code",
   "execution_count": null,
   "id": "ad586608",
   "metadata": {},
   "outputs": [],
   "source": []
  }
 ],
 "metadata": {
  "kernelspec": {
   "display_name": "Python 3",
   "language": "python",
   "name": "python3"
  },
  "language_info": {
   "codemirror_mode": {
    "name": "ipython",
    "version": 3
   },
   "file_extension": ".py",
   "mimetype": "text/x-python",
   "name": "python",
   "nbconvert_exporter": "python",
   "pygments_lexer": "ipython3",
   "version": "3.8.8"
  }
 },
 "nbformat": 4,
 "nbformat_minor": 5
}
