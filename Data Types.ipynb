{
 "cells": [
  {
   "cell_type": "markdown",
   "id": "958b37d0",
   "metadata": {},
   "source": [
    "# Data types"
   ]
  },
  {
   "cell_type": "code",
   "execution_count": 2,
   "id": "198e2b81",
   "metadata": {},
   "outputs": [
    {
     "name": "stdout",
     "output_type": "stream",
     "text": [
      "Swayam\n"
     ]
    },
    {
     "data": {
      "text/plain": [
       "str"
      ]
     },
     "execution_count": 2,
     "metadata": {},
     "output_type": "execute_result"
    }
   ],
   "source": [
    "name=\"Swayam\"\n",
    "print(name)\n",
    "type(name)"
   ]
  },
  {
   "cell_type": "markdown",
   "id": "b7af06d2",
   "metadata": {},
   "source": [
    "# Numeric-Integer and Float"
   ]
  },
  {
   "cell_type": "code",
   "execution_count": 7,
   "id": "866431ac",
   "metadata": {},
   "outputs": [],
   "source": [
    "num_of_unit=5\n",
    "price_per_unit=3.5\n"
   ]
  },
  {
   "cell_type": "code",
   "execution_count": 8,
   "id": "b1634092",
   "metadata": {},
   "outputs": [
    {
     "data": {
      "text/plain": [
       "int"
      ]
     },
     "execution_count": 8,
     "metadata": {},
     "output_type": "execute_result"
    }
   ],
   "source": [
    "type(num_of_unit)"
   ]
  },
  {
   "cell_type": "code",
   "execution_count": 9,
   "id": "a10be9b7",
   "metadata": {},
   "outputs": [
    {
     "data": {
      "text/plain": [
       "float"
      ]
     },
     "execution_count": 9,
     "metadata": {},
     "output_type": "execute_result"
    }
   ],
   "source": [
    "type(price_per_unit)"
   ]
  },
  {
   "cell_type": "code",
   "execution_count": null,
   "id": "6c987cfc",
   "metadata": {},
   "outputs": [],
   "source": []
  }
 ],
 "metadata": {
  "kernelspec": {
   "display_name": "Python 3",
   "language": "python",
   "name": "python3"
  },
  "language_info": {
   "codemirror_mode": {
    "name": "ipython",
    "version": 3
   },
   "file_extension": ".py",
   "mimetype": "text/x-python",
   "name": "python",
   "nbconvert_exporter": "python",
   "pygments_lexer": "ipython3",
   "version": "3.8.8"
  }
 },
 "nbformat": 4,
 "nbformat_minor": 5
}
