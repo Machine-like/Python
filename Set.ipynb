{
 "cells": [
  {
   "cell_type": "markdown",
   "id": "bb2d0a30",
   "metadata": {},
   "source": [
    "# Set\n",
    "1. add hetrogenous\n",
    "2. does not allow duplicates\n",
    "3. cannot access using index\n",
    "4. immutable using index but it's mutable\n",
    "5. ordered-first place"
   ]
  },
  {
   "cell_type": "code",
   "execution_count": 31,
   "id": "75cd24d2",
   "metadata": {},
   "outputs": [
    {
     "data": {
      "text/plain": [
       "[22, 44, 12, 54, 'Arun', 'Archana', 'Sanchayita', 'Latha']"
      ]
     },
     "execution_count": 31,
     "metadata": {},
     "output_type": "execute_result"
    }
   ],
   "source": [
    "sample_list=[22,44,12,54,\"Arun\",\"Archana\",\"Sanchayita\",\"Latha\"]\n",
    "sample_list"
   ]
  },
  {
   "cell_type": "code",
   "execution_count": 16,
   "id": "9784d39b",
   "metadata": {},
   "outputs": [
    {
     "data": {
      "text/plain": [
       "[74, 84, 65, 23, 'Vinay', 'Suja', 'Thiru', 'Prema']"
      ]
     },
     "execution_count": 16,
     "metadata": {},
     "output_type": "execute_result"
    }
   ],
   "source": [
    "sample_list2=[74,84,65,23,\"Vinay\",\"Suja\",\"Thiru\",\"Prema\"]\n",
    "sample_listt2"
   ]
  },
  {
   "cell_type": "code",
   "execution_count": 17,
   "id": "98a4da16",
   "metadata": {},
   "outputs": [
    {
     "data": {
      "text/plain": [
       "[22,\n",
       " 44,\n",
       " 12,\n",
       " 54,\n",
       " 'Arun',\n",
       " 'Archana',\n",
       " 'Sanchayita',\n",
       " 'Latha',\n",
       " 74,\n",
       " 84,\n",
       " 65,\n",
       " 23,\n",
       " 'Vinay',\n",
       " 'Suja',\n",
       " 'Thiru',\n",
       " 'Prema']"
      ]
     },
     "execution_count": 17,
     "metadata": {},
     "output_type": "execute_result"
    }
   ],
   "source": [
    "new_list=sample_set+sample_set2\n",
    "new_list"
   ]
  },
  {
   "cell_type": "code",
   "execution_count": 18,
   "id": "f6f71d26",
   "metadata": {},
   "outputs": [
    {
     "data": {
      "text/plain": [
       "[22,\n",
       " 44,\n",
       " 12,\n",
       " 54,\n",
       " 'Arun',\n",
       " 'Archana',\n",
       " 'Sanchayita',\n",
       " 'Latha',\n",
       " 74,\n",
       " 84,\n",
       " 65,\n",
       " 23,\n",
       " 'Vinay',\n",
       " 'Suja',\n",
       " 'Thiru',\n",
       " 'Prema',\n",
       " 'sonu']"
      ]
     },
     "execution_count": 18,
     "metadata": {},
     "output_type": "execute_result"
    }
   ],
   "source": [
    "new_list.append(\"sonu\")\n",
    "new_list"
   ]
  },
  {
   "cell_type": "markdown",
   "id": "fa471135",
   "metadata": {},
   "source": [
    "# Sorting in a list \n"
   ]
  },
  {
   "cell_type": "code",
   "execution_count": 21,
   "id": "147aef17",
   "metadata": {},
   "outputs": [
    {
     "data": {
      "text/plain": [
       "[10, 29, 32, 51, 94]"
      ]
     },
     "execution_count": 21,
     "metadata": {},
     "output_type": "execute_result"
    }
   ],
   "source": [
    "num_list=[10,29,94,32,51]\n",
    "num_list.sort()\n",
    "num_list"
   ]
  },
  {
   "cell_type": "code",
   "execution_count": 26,
   "id": "597d4446",
   "metadata": {},
   "outputs": [
    {
     "data": {
      "text/plain": [
       "[94, 51, 32, 29, 10]"
      ]
     },
     "execution_count": 26,
     "metadata": {},
     "output_type": "execute_result"
    }
   ],
   "source": [
    "num_list.sort(reverse=True)\n",
    "num_list\n"
   ]
  },
  {
   "cell_type": "code",
   "execution_count": 24,
   "id": "aff70290",
   "metadata": {},
   "outputs": [
    {
     "ename": "TypeError",
     "evalue": "'<' not supported between instances of 'str' and 'int'",
     "output_type": "error",
     "traceback": [
      "\u001b[1;31m---------------------------------------------------------------------------\u001b[0m",
      "\u001b[1;31mTypeError\u001b[0m                                 Traceback (most recent call last)",
      "\u001b[1;32m<ipython-input-24-aabd090a5f0e>\u001b[0m in \u001b[0;36m<module>\u001b[1;34m\u001b[0m\n\u001b[1;32m----> 1\u001b[1;33m \u001b[0msample_set\u001b[0m\u001b[1;33m.\u001b[0m\u001b[0msort\u001b[0m\u001b[1;33m(\u001b[0m\u001b[1;33m)\u001b[0m\u001b[1;33m\u001b[0m\u001b[1;33m\u001b[0m\u001b[0m\n\u001b[0m\u001b[0;32m      2\u001b[0m \u001b[0msample_set\u001b[0m\u001b[1;33m\u001b[0m\u001b[1;33m\u001b[0m\u001b[0m\n",
      "\u001b[1;31mTypeError\u001b[0m: '<' not supported between instances of 'str' and 'int'"
     ]
    }
   ],
   "source": [
    "sample_set.sort()\n",
    "sample_set        ##cannot sort with mixed data types."
   ]
  },
  {
   "cell_type": "markdown",
   "id": "13a15fdb",
   "metadata": {},
   "source": [
    "Sorting a list by sorted fuction"
   ]
  },
  {
   "cell_type": "code",
   "execution_count": 27,
   "id": "8a2dec97",
   "metadata": {},
   "outputs": [
    {
     "data": {
      "text/plain": [
       "[10, 29, 32, 51, 94]"
      ]
     },
     "execution_count": 27,
     "metadata": {},
     "output_type": "execute_result"
    }
   ],
   "source": [
    "num_list_sorted=sorted(num_list)\n",
    "num_list_sorted"
   ]
  },
  {
   "cell_type": "markdown",
   "id": "1c071ac5",
   "metadata": {},
   "source": [
    "#Sort() modifies an existing list but sorted creates a new list"
   ]
  },
  {
   "cell_type": "markdown",
   "id": "ca6efe2a",
   "metadata": {},
   "source": [
    "# Checking Presence of element in the list"
   ]
  },
  {
   "cell_type": "code",
   "execution_count": 33,
   "id": "595e3186",
   "metadata": {},
   "outputs": [
    {
     "data": {
      "text/plain": [
       "False"
      ]
     },
     "execution_count": 33,
     "metadata": {},
     "output_type": "execute_result"
    }
   ],
   "source": [
    "(\"john\" in sample_list)"
   ]
  },
  {
   "cell_type": "code",
   "execution_count": 34,
   "id": "3d16d0f1",
   "metadata": {},
   "outputs": [
    {
     "data": {
      "text/plain": [
       "True"
      ]
     },
     "execution_count": 34,
     "metadata": {},
     "output_type": "execute_result"
    }
   ],
   "source": [
    "\"Latha\" in sample_list"
   ]
  },
  {
   "cell_type": "markdown",
   "id": "31a87bc0",
   "metadata": {},
   "source": [
    "# Lterating through all the elements in a list\n"
   ]
  },
  {
   "cell_type": "code",
   "execution_count": 36,
   "id": "f2319188",
   "metadata": {},
   "outputs": [
    {
     "name": "stdout",
     "output_type": "stream",
     "text": [
      "22\n",
      "44\n",
      "12\n",
      "54\n",
      "Arun\n",
      "Archana\n",
      "Sanchayita\n",
      "Latha\n"
     ]
    }
   ],
   "source": [
    "for list in sample_list:\n",
    "    print(list)"
   ]
  },
  {
   "cell_type": "code",
   "execution_count": 37,
   "id": "8d45d8f4",
   "metadata": {},
   "outputs": [
    {
     "data": {
      "text/plain": [
       "8"
      ]
     },
     "execution_count": 37,
     "metadata": {},
     "output_type": "execute_result"
    }
   ],
   "source": [
    "len(sample_list) #number of elements"
   ]
  },
  {
   "cell_type": "code",
   "execution_count": 39,
   "id": "58562c8a",
   "metadata": {},
   "outputs": [
    {
     "data": {
      "text/plain": [
       "94"
      ]
     },
     "execution_count": 39,
     "metadata": {},
     "output_type": "execute_result"
    }
   ],
   "source": [
    "max(num_list)"
   ]
  },
  {
   "cell_type": "code",
   "execution_count": 40,
   "id": "6e1117ab",
   "metadata": {},
   "outputs": [
    {
     "data": {
      "text/plain": [
       "10"
      ]
     },
     "execution_count": 40,
     "metadata": {},
     "output_type": "execute_result"
    }
   ],
   "source": [
    "min(num_list)"
   ]
  },
  {
   "cell_type": "code",
   "execution_count": 41,
   "id": "44eedac4",
   "metadata": {},
   "outputs": [
    {
     "ename": "TypeError",
     "evalue": "'>' not supported between instances of 'str' and 'int'",
     "output_type": "error",
     "traceback": [
      "\u001b[1;31m---------------------------------------------------------------------------\u001b[0m",
      "\u001b[1;31mTypeError\u001b[0m                                 Traceback (most recent call last)",
      "\u001b[1;32m<ipython-input-41-f849bcf7f3f7>\u001b[0m in \u001b[0;36m<module>\u001b[1;34m\u001b[0m\n\u001b[1;32m----> 1\u001b[1;33m \u001b[0mmax\u001b[0m\u001b[1;33m(\u001b[0m\u001b[0msample_list\u001b[0m\u001b[1;33m)\u001b[0m\u001b[1;33m\u001b[0m\u001b[1;33m\u001b[0m\u001b[0m\n\u001b[0m",
      "\u001b[1;31mTypeError\u001b[0m: '>' not supported between instances of 'str' and 'int'"
     ]
    }
   ],
   "source": [
    "max(sample_list)"
   ]
  },
  {
   "cell_type": "markdown",
   "id": "843a932d",
   "metadata": {},
   "source": [
    "# Removing an elements of a list"
   ]
  },
  {
   "cell_type": "code",
   "execution_count": 42,
   "id": "7b46b554",
   "metadata": {},
   "outputs": [
    {
     "data": {
      "text/plain": [
       "[10, 20, 60, 40, 'sagar']"
      ]
     },
     "execution_count": 42,
     "metadata": {},
     "output_type": "execute_result"
    }
   ],
   "source": [
    "list=[10,20,60,40,'sagar']\n",
    "list"
   ]
  },
  {
   "cell_type": "code",
   "execution_count": 43,
   "id": "bf88d146",
   "metadata": {},
   "outputs": [
    {
     "data": {
      "text/plain": [
       "[]"
      ]
     },
     "execution_count": 43,
     "metadata": {},
     "output_type": "execute_result"
    }
   ],
   "source": [
    "list.clear()\n",
    "list"
   ]
  },
  {
   "cell_type": "code",
   "execution_count": 44,
   "id": "1e51e53f",
   "metadata": {},
   "outputs": [
    {
     "data": {
      "text/plain": [
       "[94, 51, 32, 29, 10]"
      ]
     },
     "execution_count": 44,
     "metadata": {},
     "output_type": "execute_result"
    }
   ],
   "source": [
    "list=num_list.copy()\n",
    "list"
   ]
  },
  {
   "cell_type": "code",
   "execution_count": 45,
   "id": "17758105",
   "metadata": {},
   "outputs": [
    {
     "data": {
      "text/plain": [
       "[94, 51, 32, 29, 10, 10]"
      ]
     },
     "execution_count": 45,
     "metadata": {},
     "output_type": "execute_result"
    }
   ],
   "source": [
    "list.append(10)\n",
    "list"
   ]
  },
  {
   "cell_type": "code",
   "execution_count": 46,
   "id": "dcf11a18",
   "metadata": {},
   "outputs": [
    {
     "data": {
      "text/plain": [
       "2"
      ]
     },
     "execution_count": 46,
     "metadata": {},
     "output_type": "execute_result"
    }
   ],
   "source": [
    "list.count(10)"
   ]
  },
  {
   "cell_type": "code",
   "execution_count": 47,
   "id": "0d173790",
   "metadata": {},
   "outputs": [
    {
     "data": {
      "text/plain": [
       "['learning', 'actually', 'foregin', 'data', 'structure', 'machine']"
      ]
     },
     "execution_count": 47,
     "metadata": {},
     "output_type": "execute_result"
    }
   ],
   "source": [
    "list_1=['data','structure','machine']\n",
    "list_2=['learning','actually','foregin']\n",
    "list_2.extend(list_1)\n",
    "list_2"
   ]
  },
  {
   "cell_type": "code",
   "execution_count": 48,
   "id": "1adb4613",
   "metadata": {},
   "outputs": [
    {
     "data": {
      "text/plain": [
       "1"
      ]
     },
     "execution_count": 48,
     "metadata": {},
     "output_type": "execute_result"
    }
   ],
   "source": [
    "list_1.index('structure')"
   ]
  },
  {
   "cell_type": "code",
   "execution_count": 49,
   "id": "420d80c4",
   "metadata": {},
   "outputs": [
    {
     "data": {
      "text/plain": [
       "['data', 'structure', 'machine', 'Block']"
      ]
     },
     "execution_count": 49,
     "metadata": {},
     "output_type": "execute_result"
    }
   ],
   "source": [
    "list_1.insert(3,'Block')\n",
    "list_1"
   ]
  },
  {
   "cell_type": "code",
   "execution_count": 50,
   "id": "39ba0da5",
   "metadata": {},
   "outputs": [
    {
     "data": {
      "text/plain": [
       "['data', 'structure', 'Block']"
      ]
     },
     "execution_count": 50,
     "metadata": {},
     "output_type": "execute_result"
    }
   ],
   "source": [
    "list_1.pop(2)\n",
    "list_1"
   ]
  },
  {
   "cell_type": "code",
   "execution_count": 51,
   "id": "24b30113",
   "metadata": {},
   "outputs": [
    {
     "data": {
      "text/plain": [
       "['Block', 'structure', 'data']"
      ]
     },
     "execution_count": 51,
     "metadata": {},
     "output_type": "execute_result"
    }
   ],
   "source": [
    "list_1.reverse()\n",
    "list_1"
   ]
  },
  {
   "cell_type": "code",
   "execution_count": 52,
   "id": "1fe3333f",
   "metadata": {},
   "outputs": [
    {
     "data": {
      "text/plain": [
       "['structure', 'data', 'Block']"
      ]
     },
     "execution_count": 52,
     "metadata": {},
     "output_type": "execute_result"
    }
   ],
   "source": [
    "list_1.sort(reverse=True)\n",
    "list_1"
   ]
  },
  {
   "cell_type": "code",
   "execution_count": null,
   "id": "6037d1ed",
   "metadata": {},
   "outputs": [],
   "source": []
  }
 ],
 "metadata": {
  "kernelspec": {
   "display_name": "Python 3",
   "language": "python",
   "name": "python3"
  },
  "language_info": {
   "codemirror_mode": {
    "name": "ipython",
    "version": 3
   },
   "file_extension": ".py",
   "mimetype": "text/x-python",
   "name": "python",
   "nbconvert_exporter": "python",
   "pygments_lexer": "ipython3",
   "version": "3.8.8"
  }
 },
 "nbformat": 4,
 "nbformat_minor": 5
}
