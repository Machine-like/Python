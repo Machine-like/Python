{
 "cells": [
  {
   "cell_type": "markdown",
   "id": "2ec8e08e",
   "metadata": {},
   "source": [
    "# What are Variables?\n",
    "\n",
    "Variables are containers for storing values. python has no command for declaring the variables. When you assign a value, a variable is created.\n",
    "\n"
   ]
  },
  {
   "cell_type": "markdown",
   "id": "5584706e",
   "metadata": {},
   "source": [
    "# Rules for declaring variable:\n",
    "\n",
    "A variable name must start with a letter or underscore character. A variable name cannot start with a number. A variable name can only contain alpha-numeric characters and underscores(A-z, 0-9, and _ ).\n",
    "variable names are case sensitive(age, Age, AGE are three different variable."
   ]
  },
  {
   "cell_type": "code",
   "execution_count": 1,
   "id": "c1ddd916",
   "metadata": {},
   "outputs": [
    {
     "data": {
      "text/plain": [
       "5"
      ]
     },
     "execution_count": 1,
     "metadata": {},
     "output_type": "execute_result"
    }
   ],
   "source": [
    "### Declaring a variable\n",
    "x=5\n",
    "\n",
    "x"
   ]
  },
  {
   "cell_type": "code",
   "execution_count": 3,
   "id": "fa32a36e",
   "metadata": {},
   "outputs": [
    {
     "data": {
      "text/plain": [
       "'Swayam'"
      ]
     },
     "execution_count": 3,
     "metadata": {},
     "output_type": "execute_result"
    }
   ],
   "source": [
    "Name = \"Swayam\"\n",
    "Name"
   ]
  },
  {
   "cell_type": "code",
   "execution_count": 4,
   "id": "a7a6e806",
   "metadata": {},
   "outputs": [
    {
     "ename": "NameError",
     "evalue": "name 'name' is not defined",
     "output_type": "error",
     "traceback": [
      "\u001b[1;31m---------------------------------------------------------------------------\u001b[0m",
      "\u001b[1;31mNameError\u001b[0m                                 Traceback (most recent call last)",
      "\u001b[1;32m<ipython-input-4-9bc0cb2ed6de>\u001b[0m in \u001b[0;36m<module>\u001b[1;34m\u001b[0m\n\u001b[1;32m----> 1\u001b[1;33m \u001b[0mname\u001b[0m\u001b[1;33m\u001b[0m\u001b[1;33m\u001b[0m\u001b[0m\n\u001b[0m",
      "\u001b[1;31mNameError\u001b[0m: name 'name' is not defined"
     ]
    }
   ],
   "source": [
    "name"
   ]
  },
  {
   "cell_type": "code",
   "execution_count": 5,
   "id": "9dda49ac",
   "metadata": {},
   "outputs": [
    {
     "data": {
      "text/plain": [
       "'Swastik'"
      ]
     },
     "execution_count": 5,
     "metadata": {},
     "output_type": "execute_result"
    }
   ],
   "source": [
    "NICK_name = \"Swastik\"\n",
    "NICK_name"
   ]
  },
  {
   "cell_type": "code",
   "execution_count": 7,
   "id": "4fd864b3",
   "metadata": {},
   "outputs": [
    {
     "data": {
      "text/plain": [
       "'Dash'"
      ]
     },
     "execution_count": 7,
     "metadata": {},
     "output_type": "execute_result"
    }
   ],
   "source": [
    "name1 = \"Dash\"\n",
    "name1"
   ]
  },
  {
   "cell_type": "code",
   "execution_count": 8,
   "id": "b6f5b9ce",
   "metadata": {},
   "outputs": [
    {
     "ename": "SyntaxError",
     "evalue": "cannot assign to operator (<ipython-input-8-4ba7352b0f88>, line 1)",
     "output_type": "error",
     "traceback": [
      "\u001b[1;36m  File \u001b[1;32m\"<ipython-input-8-4ba7352b0f88>\"\u001b[1;36m, line \u001b[1;32m1\u001b[0m\n\u001b[1;33m    NICK*name=\"sonu\"\u001b[0m\n\u001b[1;37m    ^\u001b[0m\n\u001b[1;31mSyntaxError\u001b[0m\u001b[1;31m:\u001b[0m cannot assign to operator\n"
     ]
    }
   ],
   "source": [
    "NICK*name=\"sonu\"\n",
    "NICK*name"
   ]
  },
  {
   "cell_type": "code",
   "execution_count": 9,
   "id": "dd5faf05",
   "metadata": {},
   "outputs": [
    {
     "ename": "SyntaxError",
     "evalue": "cannot assign to operator (<ipython-input-9-8bd35b3ed40b>, line 1)",
     "output_type": "error",
     "traceback": [
      "\u001b[1;36m  File \u001b[1;32m\"<ipython-input-9-8bd35b3ed40b>\"\u001b[1;36m, line \u001b[1;32m1\u001b[0m\n\u001b[1;33m    NICK@name=\"sonu\"\u001b[0m\n\u001b[1;37m    ^\u001b[0m\n\u001b[1;31mSyntaxError\u001b[0m\u001b[1;31m:\u001b[0m cannot assign to operator\n"
     ]
    }
   ],
   "source": [
    "NICK@name=\"sonu\"\n",
    "NICK@name"
   ]
  },
  {
   "cell_type": "code",
   "execution_count": null,
   "id": "c63ea266",
   "metadata": {},
   "outputs": [],
   "source": []
  }
 ],
 "metadata": {
  "kernelspec": {
   "display_name": "Python 3",
   "language": "python",
   "name": "python3"
  },
  "language_info": {
   "codemirror_mode": {
    "name": "ipython",
    "version": 3
   },
   "file_extension": ".py",
   "mimetype": "text/x-python",
   "name": "python",
   "nbconvert_exporter": "python",
   "pygments_lexer": "ipython3",
   "version": "3.8.8"
  }
 },
 "nbformat": 4,
 "nbformat_minor": 5
}
