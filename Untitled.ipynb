{
 "cells": [
  {
   "cell_type": "markdown",
   "id": "d5423320",
   "metadata": {},
   "source": [
    "# Tuple"
   ]
  },
  {
   "cell_type": "code",
   "execution_count": 14,
   "id": "acc46940",
   "metadata": {},
   "outputs": [
    {
     "data": {
      "text/plain": [
       "tuple"
      ]
     },
     "execution_count": 14,
     "metadata": {},
     "output_type": "execute_result"
    }
   ],
   "source": [
    "a = \"Henry\",\"David\",\"Rajesh\"\n",
    "type(a)"
   ]
  },
  {
   "cell_type": "code",
   "execution_count": 15,
   "id": "b80a94a1",
   "metadata": {},
   "outputs": [
    {
     "data": {
      "text/plain": [
       "('Henry', 'David', 'Rajesh')"
      ]
     },
     "execution_count": 15,
     "metadata": {},
     "output_type": "execute_result"
    }
   ],
   "source": [
    "a"
   ]
  },
  {
   "cell_type": "code",
   "execution_count": 16,
   "id": "4b5aad53",
   "metadata": {},
   "outputs": [
    {
     "data": {
      "text/plain": [
       "tuple"
      ]
     },
     "execution_count": 16,
     "metadata": {},
     "output_type": "execute_result"
    }
   ],
   "source": [
    "b = (12,55,6,\"Hi\",54,2)\n",
    "type(b)"
   ]
  },
  {
   "cell_type": "code",
   "execution_count": 17,
   "id": "8429c31d",
   "metadata": {},
   "outputs": [
    {
     "data": {
      "text/plain": [
       "(12, 55, 6, 'Hi', 54, 2)"
      ]
     },
     "execution_count": 17,
     "metadata": {},
     "output_type": "execute_result"
    }
   ],
   "source": [
    "b"
   ]
  },
  {
   "cell_type": "code",
   "execution_count": 18,
   "id": "491d7ca0",
   "metadata": {},
   "outputs": [
    {
     "data": {
      "text/plain": [
       "'Rajesh'"
      ]
     },
     "execution_count": 18,
     "metadata": {},
     "output_type": "execute_result"
    }
   ],
   "source": [
    "a[2]"
   ]
  },
  {
   "cell_type": "code",
   "execution_count": 19,
   "id": "4994c4bb",
   "metadata": {},
   "outputs": [
    {
     "data": {
      "text/plain": [
       "'Hi'"
      ]
     },
     "execution_count": 19,
     "metadata": {},
     "output_type": "execute_result"
    }
   ],
   "source": [
    "b[3]"
   ]
  },
  {
   "cell_type": "markdown",
   "id": "254e42bc",
   "metadata": {},
   "source": [
    "Tuple is immutable and heterogenous."
   ]
  },
  {
   "cell_type": "code",
   "execution_count": null,
   "id": "aa8fec03",
   "metadata": {},
   "outputs": [],
   "source": []
  }
 ],
 "metadata": {
  "kernelspec": {
   "display_name": "Python 3",
   "language": "python",
   "name": "python3"
  },
  "language_info": {
   "codemirror_mode": {
    "name": "ipython",
    "version": 3
   },
   "file_extension": ".py",
   "mimetype": "text/x-python",
   "name": "python",
   "nbconvert_exporter": "python",
   "pygments_lexer": "ipython3",
   "version": "3.8.8"
  }
 },
 "nbformat": 4,
 "nbformat_minor": 5
}
